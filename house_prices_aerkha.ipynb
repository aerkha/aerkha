{
  "metadata": {
    "kernelspec": {
      "language": "python",
      "display_name": "Python 3",
      "name": "python3"
    },
    "language_info": {
      "name": "python",
      "version": "3.10.14",
      "mimetype": "text/x-python",
      "codemirror_mode": {
        "name": "ipython",
        "version": 3
      },
      "pygments_lexer": "ipython3",
      "nbconvert_exporter": "python",
      "file_extension": ".py"
    },
    "kaggle": {
      "accelerator": "none",
      "dataSources": [
        {
          "sourceId": 5407,
          "databundleVersionId": 868283,
          "sourceType": "competition"
        }
      ],
      "dockerImageVersionId": 30786,
      "isInternetEnabled": true,
      "language": "python",
      "sourceType": "notebook",
      "isGpuEnabled": false
    },
    "colab": {
      "name": "house-prices-aerkha",
      "provenance": [],
      "include_colab_link": true
    }
  },
  "nbformat_minor": 0,
  "nbformat": 4,
  "cells": [
    {
      "cell_type": "markdown",
      "metadata": {
        "id": "view-in-github",
        "colab_type": "text"
      },
      "source": [
        "<a href=\"https://colab.research.google.com/github/aerkha/aerkha/blob/main/house_prices_aerkha.ipynb\" target=\"_parent\"><img src=\"https://colab.research.google.com/assets/colab-badge.svg\" alt=\"Open In Colab\"/></a>"
      ]
    },
    {
      "source": [
        "# IMPORTANT: SOME KAGGLE DATA SOURCES ARE PRIVATE\n",
        "# RUN THIS CELL IN ORDER TO IMPORT YOUR KAGGLE DATA SOURCES.\n",
        "import kagglehub\n",
        "kagglehub.login()\n"
      ],
      "metadata": {
        "id": "uH7K4Nl0gXSu"
      },
      "cell_type": "code",
      "outputs": [],
      "execution_count": null
    },
    {
      "source": [
        "# IMPORTANT: RUN THIS CELL IN ORDER TO IMPORT YOUR KAGGLE DATA SOURCES,\n",
        "# THEN FEEL FREE TO DELETE THIS CELL.\n",
        "# NOTE: THIS NOTEBOOK ENVIRONMENT DIFFERS FROM KAGGLE'S PYTHON\n",
        "# ENVIRONMENT SO THERE MAY BE MISSING LIBRARIES USED BY YOUR\n",
        "# NOTEBOOK.\n",
        "\n",
        "house_prices_advanced_regression_techniques_path = kagglehub.competition_download('house-prices-advanced-regression-techniques')\n",
        "\n",
        "print('Data source import complete.')\n"
      ],
      "metadata": {
        "id": "fEShtdvSgXSu"
      },
      "cell_type": "code",
      "outputs": [],
      "execution_count": null
    },
    {
      "cell_type": "code",
      "source": [
        "# This Python 3 environment comes with many helpful analytics libraries installed\n",
        "# It is defined by the kaggle/python Docker image: https://github.com/kaggle/docker-python\n",
        "# For example, here's several helpful packages to load\n",
        "\n",
        "import numpy as np # linear algebra\n",
        "import pandas as pd # data processing, CSV file I/O (e.g. pd.read_csv)\n",
        "import matplotlib.pyplot as plt\n",
        "from category_encoders import OneHotEncoder\n",
        "from sklearn.linear_model import LinearRegression, Ridge  # noqa F401\n",
        "from sklearn.impute import SimpleImputer\n",
        "from sklearn.metrics import mean_absolute_error\n",
        "from sklearn.pipeline import make_pipeline\n",
        "from sklearn.utils.validation import check_is_fitted\n",
        "import seaborn as sns\n",
        "\n",
        "# Input data files are available in the read-only \"../input/\" directory\n",
        "# For example, running this (by clicking run or pressing Shift+Enter) will list all files under the input directory\n",
        "\n",
        "import os\n",
        "for dirname, _, filenames in os.walk('/kaggle/input'):\n",
        "    for filename in filenames:\n",
        "        print(os.path.join(dirname, filename))\n",
        "\n",
        "# You can write up to 20GB to the current directory (/kaggle/working/) that gets preserved as output when you create a version using \"Save & Run All\"\n",
        "# You can also write temporary files to /kaggle/temp/, but they won't be saved outside of the current session"
      ],
      "metadata": {
        "_uuid": "8f2839f25d086af736a60e9eeb907d3b93b6e0e5",
        "_cell_guid": "b1076dfc-b9ad-4769-8c92-a6c4dae69d19",
        "trusted": true,
        "execution": {
          "iopub.status.busy": "2024-10-23T13:26:37.502584Z",
          "iopub.execute_input": "2024-10-23T13:26:37.503084Z",
          "iopub.status.idle": "2024-10-23T13:26:37.517963Z",
          "shell.execute_reply.started": "2024-10-23T13:26:37.503037Z",
          "shell.execute_reply": "2024-10-23T13:26:37.516468Z"
        },
        "id": "Z15MEXfpgXSv"
      },
      "outputs": [],
      "execution_count": null
    },
    {
      "cell_type": "code",
      "source": [
        "df = pd.read_csv(\"/kaggle/input/house-prices-advanced-regression-techniques/train.csv\")\n",
        "df.info()"
      ],
      "metadata": {
        "trusted": true,
        "execution": {
          "iopub.status.busy": "2024-10-23T13:26:37.520137Z",
          "iopub.execute_input": "2024-10-23T13:26:37.52072Z",
          "iopub.status.idle": "2024-10-23T13:26:37.589099Z",
          "shell.execute_reply.started": "2024-10-23T13:26:37.52067Z",
          "shell.execute_reply": "2024-10-23T13:26:37.58784Z"
        },
        "id": "5ACKIqADgXSv"
      },
      "outputs": [],
      "execution_count": null
    },
    {
      "cell_type": "code",
      "source": [
        "df.head()"
      ],
      "metadata": {
        "trusted": true,
        "execution": {
          "iopub.status.busy": "2024-10-23T13:26:37.591304Z",
          "iopub.execute_input": "2024-10-23T13:26:37.591739Z",
          "iopub.status.idle": "2024-10-23T13:26:37.619032Z",
          "shell.execute_reply.started": "2024-10-23T13:26:37.591694Z",
          "shell.execute_reply": "2024-10-23T13:26:37.617749Z"
        },
        "id": "2oyr6yRrgXSv"
      },
      "outputs": [],
      "execution_count": null
    },
    {
      "cell_type": "code",
      "source": [
        "#Salesprice Distribution\n",
        "plt.hist(df[\"SalePrice\"])\n",
        "\n",
        "\n",
        "# Label axes\n",
        "plt.xlabel(\"Price [$]\")\n",
        "plt.ylabel(\"Count\")\n",
        "\n",
        "# Add title\n",
        "plt.title(\"Distribution of Sale Prices\")"
      ],
      "metadata": {
        "trusted": true,
        "execution": {
          "iopub.status.busy": "2024-10-23T13:26:37.620948Z",
          "iopub.execute_input": "2024-10-23T13:26:37.621433Z",
          "iopub.status.idle": "2024-10-23T13:26:38.02058Z",
          "shell.execute_reply.started": "2024-10-23T13:26:37.621385Z",
          "shell.execute_reply": "2024-10-23T13:26:38.019279Z"
        },
        "id": "A4tbKH7GgXSw"
      },
      "outputs": [],
      "execution_count": null
    },
    {
      "cell_type": "code",
      "source": [
        "#Correlation variables to saleprice\n",
        "corr = df.select_dtypes(\"number\").drop(columns=\"SalePrice\").corr()\n",
        "sns.heatmap(corr)"
      ],
      "metadata": {
        "trusted": true,
        "execution": {
          "iopub.status.busy": "2024-10-23T13:26:38.024292Z",
          "iopub.execute_input": "2024-10-23T13:26:38.024783Z",
          "iopub.status.idle": "2024-10-23T13:26:38.744719Z",
          "shell.execute_reply.started": "2024-10-23T13:26:38.024733Z",
          "shell.execute_reply": "2024-10-23T13:26:38.743288Z"
        },
        "id": "WcvUyKTngXSw"
      },
      "outputs": [],
      "execution_count": null
    },
    {
      "cell_type": "code",
      "source": [
        "target = \"SalePrice\"\n",
        "features = ['Id',\t'MSSubClass',\t'MSZoning',\t'LotFrontage',\t'LotArea',\t'Street',\t'Alley',\t'LotShape',\t'LandContour',\t'Utilities',\t'LotConfig',\t'LandSlope',\t'Neighborhood',\t'Condition1',\t'Condition2',\t'BldgType',\t'HouseStyle',\t'OverallQual',\t'OverallCond',\t'YearBuilt',\t'YearRemodAdd',\t'RoofStyle',\t'RoofMatl',\t'Exterior1st',\t'Exterior2nd',\t'MasVnrType',\t'MasVnrArea',\t'ExterQual',\t'ExterCond',\t'Foundation',\t'BsmtQual',\t'BsmtCond',\t'BsmtExposure',\t'BsmtFinType1',\t'BsmtFinSF1',\t'BsmtFinType2',\t'BsmtFinSF2',\t'BsmtUnfSF',\t'TotalBsmtSF',\t'Heating',\t'HeatingQC',\t'CentralAir',\t'Electrical',\t'1stFlrSF',\t'2ndFlrSF',\t'LowQualFinSF',\t'GrLivArea',\t'BsmtFullBath',\t'BsmtHalfBath',\t'FullBath',\t'HalfBath',\t'BedroomAbvGr',\t'KitchenAbvGr',\t'KitchenQual',\t'TotRmsAbvGrd',\t'Functional',\t'Fireplaces',\t'FireplaceQu',\t'GarageType',\t'GarageYrBlt',\t'GarageFinish',\t'GarageCars',\t'GarageArea',\t'GarageQual',\t'GarageCond',\t'PavedDrive',\t'WoodDeckSF',\t'OpenPorchSF',\t'EnclosedPorch',\t'3SsnPorch',\t'ScreenPorch',\t'PoolArea',\t'PoolQC',\t'Fence',\t'MiscFeature',\t'MiscVal',\t'MoSold',\t'YrSold',\t'SaleType',\t'SaleCondition']\n",
        "y_train = df[target]\n",
        "X_train = df[features]"
      ],
      "metadata": {
        "trusted": true,
        "execution": {
          "iopub.status.busy": "2024-10-23T13:27:49.248614Z",
          "iopub.execute_input": "2024-10-23T13:27:49.249137Z",
          "iopub.status.idle": "2024-10-23T13:27:49.263929Z",
          "shell.execute_reply.started": "2024-10-23T13:27:49.249088Z",
          "shell.execute_reply": "2024-10-23T13:27:49.262403Z"
        },
        "id": "pL0jRs8BgXSw"
      },
      "outputs": [],
      "execution_count": null
    },
    {
      "cell_type": "code",
      "source": [
        "y_mean = y_train.mean()\n",
        "y_pred_baseline = [y_mean] * len(y_train)\n",
        "print(\"Mean house price:\", y_mean)\n",
        "\n",
        "print(\"Baseline MAE:\", mean_absolute_error(y_train, y_pred_baseline))"
      ],
      "metadata": {
        "trusted": true,
        "execution": {
          "iopub.status.busy": "2024-10-23T13:27:52.932974Z",
          "iopub.execute_input": "2024-10-23T13:27:52.934501Z",
          "iopub.status.idle": "2024-10-23T13:27:52.943084Z",
          "shell.execute_reply.started": "2024-10-23T13:27:52.934441Z",
          "shell.execute_reply": "2024-10-23T13:27:52.941686Z"
        },
        "id": "toeVq0-3gXSw"
      },
      "outputs": [],
      "execution_count": null
    },
    {
      "cell_type": "code",
      "source": [
        "model = make_pipeline(\n",
        "    OneHotEncoder(use_cat_names=True),\n",
        "    SimpleImputer(),\n",
        "    Ridge()\n",
        ")\n",
        "\n",
        "model.fit(X_train, y_train)\n",
        "check_is_fitted(model[-1])"
      ],
      "metadata": {
        "trusted": true,
        "execution": {
          "iopub.status.busy": "2024-10-23T13:28:30.438387Z",
          "iopub.execute_input": "2024-10-23T13:28:30.438874Z",
          "iopub.status.idle": "2024-10-23T13:28:31.419908Z",
          "shell.execute_reply.started": "2024-10-23T13:28:30.438832Z",
          "shell.execute_reply": "2024-10-23T13:28:31.418548Z"
        },
        "id": "-5931_ELgXSx"
      },
      "outputs": [],
      "execution_count": null
    },
    {
      "cell_type": "code",
      "source": [
        "y_pred_training = model.predict(X_train)\n",
        "mae_training = mean_absolute_error(y_train, y_pred_training)\n",
        "print(\"Training MAE:\", round(mae_training, 2))"
      ],
      "metadata": {
        "trusted": true,
        "execution": {
          "iopub.status.busy": "2024-10-23T13:28:35.872334Z",
          "iopub.execute_input": "2024-10-23T13:28:35.872983Z",
          "iopub.status.idle": "2024-10-23T13:28:36.184706Z",
          "shell.execute_reply.started": "2024-10-23T13:28:35.872835Z",
          "shell.execute_reply": "2024-10-23T13:28:36.182729Z"
        },
        "id": "ec5U_oa5gXSx"
      },
      "outputs": [],
      "execution_count": null
    },
    {
      "cell_type": "code",
      "source": [
        "X_test = pd.read_csv(\"/kaggle/input/house-prices-advanced-regression-techniques/test.csv\")[features]\n",
        "y_pred_test = pd.Series(model.predict(X_test))\n",
        "y_pred_test.head()"
      ],
      "metadata": {
        "trusted": true,
        "execution": {
          "iopub.status.busy": "2024-10-23T13:28:44.005215Z",
          "iopub.execute_input": "2024-10-23T13:28:44.005763Z",
          "iopub.status.idle": "2024-10-23T13:28:44.321014Z",
          "shell.execute_reply.started": "2024-10-23T13:28:44.005716Z",
          "shell.execute_reply": "2024-10-23T13:28:44.319046Z"
        },
        "id": "BRRoI_kNgXSx"
      },
      "outputs": [],
      "execution_count": null
    },
    {
      "cell_type": "code",
      "source": [
        "y_pred_training = model.predict(X_train)\n",
        "mae_training = mean_absolute_error(y_train, y_pred_training)\n",
        "print(\"Training MAE:\", round(mae_training, 2))"
      ],
      "metadata": {
        "trusted": true,
        "execution": {
          "iopub.status.busy": "2024-10-23T13:29:11.924073Z",
          "iopub.execute_input": "2024-10-23T13:29:11.924619Z",
          "iopub.status.idle": "2024-10-23T13:29:12.227274Z",
          "shell.execute_reply.started": "2024-10-23T13:29:11.924568Z",
          "shell.execute_reply": "2024-10-23T13:29:12.225329Z"
        },
        "id": "kMdXdSrjgXSx"
      },
      "outputs": [],
      "execution_count": null
    },
    {
      "cell_type": "code",
      "source": [
        "intercept = model.named_steps[\"ridge\"].intercept_.round()\n",
        "coefficients = model.named_steps[\"ridge\"].coef_.round()\n",
        "print(\"coefficients len:\", len(coefficients))\n",
        "print(coefficients[:5])"
      ],
      "metadata": {
        "trusted": true,
        "execution": {
          "iopub.status.busy": "2024-10-23T13:29:43.569105Z",
          "iopub.execute_input": "2024-10-23T13:29:43.570227Z",
          "iopub.status.idle": "2024-10-23T13:29:43.578348Z",
          "shell.execute_reply.started": "2024-10-23T13:29:43.570164Z",
          "shell.execute_reply": "2024-10-23T13:29:43.576837Z"
        },
        "id": "clVts5AegXSx"
      },
      "outputs": [],
      "execution_count": null
    },
    {
      "cell_type": "code",
      "source": [
        "feature_names = model.named_steps[\"onehotencoder\"].get_feature_names_out()\n",
        "print(\"features len:\", len(feature_names))\n",
        "print(feature_names[:5])"
      ],
      "metadata": {
        "trusted": true,
        "execution": {
          "iopub.status.busy": "2024-10-23T13:30:20.25584Z",
          "iopub.execute_input": "2024-10-23T13:30:20.256363Z",
          "iopub.status.idle": "2024-10-23T13:30:20.264338Z",
          "shell.execute_reply.started": "2024-10-23T13:30:20.256313Z",
          "shell.execute_reply": "2024-10-23T13:30:20.263005Z"
        },
        "id": "alettQVXgXSx"
      },
      "outputs": [],
      "execution_count": null
    },
    {
      "cell_type": "code",
      "source": [
        "feat_imp = pd.Series(coefficients, index=feature_names)\n",
        "feat_imp.head()"
      ],
      "metadata": {
        "trusted": true,
        "execution": {
          "iopub.status.busy": "2024-10-23T13:30:39.582938Z",
          "iopub.execute_input": "2024-10-23T13:30:39.583441Z",
          "iopub.status.idle": "2024-10-23T13:30:39.595162Z",
          "shell.execute_reply.started": "2024-10-23T13:30:39.583394Z",
          "shell.execute_reply": "2024-10-23T13:30:39.593593Z"
        },
        "id": "Uoa0PIvkgXSx"
      },
      "outputs": [],
      "execution_count": null
    },
    {
      "cell_type": "code",
      "source": [
        "print(f\"SalePrice = {intercept.round(2)}\")\n",
        "for f, c in feat_imp.items():\n",
        "    print(f\"+ ({round(c, 2)} * {f})\")"
      ],
      "metadata": {
        "trusted": true,
        "execution": {
          "iopub.status.busy": "2024-10-23T13:31:10.076561Z",
          "iopub.execute_input": "2024-10-23T13:31:10.077075Z",
          "iopub.status.idle": "2024-10-23T13:31:10.089574Z",
          "shell.execute_reply.started": "2024-10-23T13:31:10.077027Z",
          "shell.execute_reply": "2024-10-23T13:31:10.088082Z"
        },
        "id": "MVYKuXkygXSx"
      },
      "outputs": [],
      "execution_count": null
    },
    {
      "cell_type": "code",
      "source": [
        "#Ridge Regression\n",
        "feat_imp.sort_values(key=abs).tail(15).plot(kind=\"barh\")\n",
        "plt.xlabel(\"Importance [USD]\")\n",
        "plt.ylabel(\"Feature\")\n",
        "plt.title(\"Feature Importance for House Prices\")"
      ],
      "metadata": {
        "trusted": true,
        "execution": {
          "iopub.status.busy": "2024-10-23T13:32:00.259234Z",
          "iopub.execute_input": "2024-10-23T13:32:00.259814Z",
          "iopub.status.idle": "2024-10-23T13:32:00.746905Z",
          "shell.execute_reply.started": "2024-10-23T13:32:00.259764Z",
          "shell.execute_reply": "2024-10-23T13:32:00.74549Z"
        },
        "id": "VuUVJf7FgXSy"
      },
      "outputs": [],
      "execution_count": null
    },
    {
      "cell_type": "code",
      "source": [],
      "metadata": {
        "trusted": true,
        "id": "RonSCChigXSy"
      },
      "outputs": [],
      "execution_count": null
    }
  ]
}